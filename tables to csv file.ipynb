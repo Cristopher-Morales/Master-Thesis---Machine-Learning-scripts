{
 "cells": [
  {
   "cell_type": "markdown",
   "id": "854c636e",
   "metadata": {},
   "source": [
    "# Tables from .txt files to .csv files"
   ]
  },
  {
   "cell_type": "code",
   "execution_count": 1,
   "id": "8e269625",
   "metadata": {},
   "outputs": [],
   "source": [
    "from csv import reader         # for reading csv files\n",
    "from csv import writer         # for writing csv files\n",
    "import numpy as np             # for mathematical operations\n",
    "import pandas as pd            # for reading csv files\n",
    "import shutil                  # for moving file to other directories"
   ]
  },
  {
   "cell_type": "markdown",
   "id": "fb47ff35-0153-4d81-9115-a8a4b91424de",
   "metadata": {},
   "source": [
    "Creating csv file with inputs: mixture fraction, progress variable and their variances"
   ]
  },
  {
   "cell_type": "code",
   "execution_count": 4,
   "id": "1213669d",
   "metadata": {},
   "outputs": [
    {
     "name": "stdout",
     "output_type": "stream",
     "text": [
      ".ipynb_checkpoints\n",
      "PV_table\n",
      "varPV_table\n",
      "varZ_table\n",
      "Z_table\n"
     ]
    }
   ],
   "source": [
    "# first, the files that contain the inputs: PV_table, varPV_table, varZ_table, Z_table are converted to csv file from txt file\n",
    "for files in os.listdir('Data/tables_4D_hydrogen/inputs'):# this is done for counting the number of Matlab files\n",
    "    name=files\n",
    "    print(name) # check that files are being read correctly\n",
    "    p=0\n",
    "    if name!='.ipynb_checkpoints':\n",
    "        with open('Data/tables_myra_nelissen/inputs/'+name, 'r') as read_obj, \\\n",
    "            open('Data/tables_myra_nelissen/'+name+'_1.csv', 'w', newline='\\n') as write_obj:    \n",
    "                for line in read_obj:\n",
    "                    x=[]\n",
    "                    x.append(line.lstrip().rstrip()) # deleting space\n",
    "                    #print(x)\n",
    "                    if p>0:\n",
    "                        if x[0]!='11' and x[0]!='(' and x[0]!=')' and x[0]!='' and x[0]!=';' and x[0]!='101':\n",
    "                            writer(write_obj).writerow(x)  # copying value in the new csv files, character such as '11', ')' and other are supressed\n",
    "                    p=p+1\n",
    "    # the previous csv files contain string values, but they must be float number, then the next routine transforms string into float numbers\n",
    "    if name!='.ipynb_checkpoints':\n",
    "        df=pd.read_csv('Data/tables_myra_nelissen/'+name+'_1.csv',header=None) \n",
    "        df = df.astype(float) #convert the whole array content in float numbers\n",
    "        #print(type(df.values[1,0]))\n",
    "        #header=[name]\n",
    "        df.to_csv('Data/tables_myra_nelissen/'+name+'.csv',header=None,index=False) # save df to csv files which contains numerical values\n",
    "        os.remove('Data/tables_myra_nelissen/'+name+'_1.csv') # delete csv files which contain string values"
   ]
  },
  {
   "cell_type": "code",
   "execution_count": 19,
   "id": "e13b45d1-ba77-4b74-bea3-d31d5b10ec82",
   "metadata": {},
   "outputs": [
    {
     "name": "stdout",
     "output_type": "stream",
     "text": [
      "(11, 1) (1111, 1) (12221, 1) (1234321, 1)\n"
     ]
    }
   ],
   "source": [
    "# the four csv files created before will be joined in a single csv file that will contain the four independent variables\n",
    "X1=pd.read_csv('Data/tables_myra_nelissen/inputs csv/varPV_table.csv',header=None).values #reading variance of scaled progress variable\n",
    "X2=pd.read_csv('Data/tables_myra_nelissen/inputs csv/PV_table.csv',header=None).values #reading scaled progress variable\n",
    "X3=pd.read_csv('Data/tables_myra_nelissen/inputs csv/varZ_table.csv',header=None).values #reading variance of mixture fraction\n",
    "X4=pd.read_csv('Data/tables_myra_nelissen/inputs csv/Z_table.csv',header=None).values # reading mixture fraction\n",
    "n1=X1.shape #number of grid points on the direction of the variance of the scaled progress variable: 11\n",
    "n2=X2.shape #number of grid points on the direction of the scaled progress variable: 101\n",
    "n3=X3.shape #number of grid points on the direction of the variance of the mixture fraction: 11\n",
    "n4=X4.shape #number of grid points on the direction of the mixture fraction: 101\n",
    "print(n1,n2,n3,n4) #checking dimensionality\n",
    "# loop to create single inputs file which will have a shape (11*101*11*101,4)\n",
    "with open('Data/tables_myra_nelissen/inputs csv/inputs.csv', 'w', newline='\\n') as write_obj:\n",
    "    for l in range(0,n1[0]):\n",
    "        for k in range(0,int(n2[0]/n1[0])):           \n",
    "            for j in range(0,int(n3[0]/n2[0])):                \n",
    "                for i in range(0,int(n4[0]/n3[0])):\n",
    "                    writer(write_obj).writerow([X1[l,0],X2[k,0],X3[j,0],X4[i,0]])"
   ]
  },
  {
   "cell_type": "markdown",
   "id": "2ff416b1-4b7b-4c3b-bcdc-4184a9542d02",
   "metadata": {},
   "source": [
    "Creating csv files with outputs"
   ]
  },
  {
   "cell_type": "code",
   "execution_count": 2,
   "id": "b21e4d74",
   "metadata": {},
   "outputs": [
    {
     "name": "stdout",
     "output_type": "stream",
     "text": [
      ".ipynb_checkpoints\n",
      "AR_table\n",
      "CO2_table\n",
      "CO_table\n",
      "Cp_table\n",
      "Density_table\n",
      "H2O2_table\n",
      "H2O_table\n",
      "H2_table\n",
      "HE_table\n",
      "HO2_table\n",
      "H_table\n",
      "MeanMass_table\n",
      "N2_table\n",
      "O2_table\n",
      "OH_table\n",
      "O_table\n",
      "PVmax_table\n",
      "PVmin_table\n",
      "SourcePV_table\n",
      "Temperature_table\n"
     ]
    }
   ],
   "source": [
    "import os #library imported in order to read file in a specific location/folder\n",
    "# loop to created csv files for each output\n",
    "for files in os.listdir('Data/tables_4D_hydrogen/outputs'):\n",
    "    name=files\n",
    "    print(name)\n",
    "    p=0\n",
    "    if name!='.ipynb_checkpoints':\n",
    "        with open('Data/tables_4D_hydrogen/outputs/'+name, 'r') as read_obj, \\\n",
    "            open('Data/tables_4D_hydrogen/outputs csv/'+name+'_1.csv', 'w', newline='\\n') as write_obj:    \n",
    "                for line in read_obj:\n",
    "                    x=[]\n",
    "                    x.append(line.lstrip().rstrip()) #deleting spaces\n",
    "                    #print(x)\n",
    "                    if p>0:\n",
    "                        if x[0]!='11' and x[0]!='(' and x[0]!=')' and x[0]!='' and x[0]!=';' and x[0]!='101': #not considering innecessary characters\n",
    "                            writer(write_obj).writerow(x) #writing numerical values in new output csv file\n",
    "                    p=p+1\n",
    "    # additional routine to transform string to float values\n",
    "    if name!='.ipynb_checkpoints':\n",
    "        df=pd.read_csv('Data/tables_4D_hydrogen/outputs csv/'+name+'_1.csv',header=None)\n",
    "        df = df.astype(float)\n",
    "        df.to_csv('Data/tables_4D_hydrogen/outputs csv/'+name+'.csv',header=None,index=False)\n",
    "        os.remove('Data/tables_4D_hydrogen/outputs csv/'+name+'_1.csv')       "
   ]
  }
 ],
 "metadata": {
  "kernelspec": {
   "display_name": "Python 3",
   "language": "python",
   "name": "python3"
  },
  "language_info": {
   "codemirror_mode": {
    "name": "ipython",
    "version": 3
   },
   "file_extension": ".py",
   "mimetype": "text/x-python",
   "name": "python",
   "nbconvert_exporter": "python",
   "pygments_lexer": "ipython3",
   "version": "3.8.8"
  }
 },
 "nbformat": 4,
 "nbformat_minor": 5
}
